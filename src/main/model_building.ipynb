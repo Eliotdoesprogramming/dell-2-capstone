{
 "metadata": {
  "language_info": {
   "codemirror_mode": {
    "name": "ipython",
    "version": 3
   },
   "file_extension": ".py",
   "mimetype": "text/x-python",
   "name": "python",
   "nbconvert_exporter": "python",
   "pygments_lexer": "ipython3",
   "version": "3.9.6"
  },
  "orig_nbformat": 4,
  "kernelspec": {
   "name": "python3",
   "display_name": "Python 3.9.6 64-bit ('.venv')"
  },
  "interpreter": {
   "hash": "0401017459cacf0dcd0880fc8c8c3f46ff2c390434bbb892442a51a671a0d6f4"
  }
 },
 "nbformat": 4,
 "nbformat_minor": 2,
 "cells": [
  {
   "cell_type": "code",
   "execution_count": 2,
   "metadata": {},
   "outputs": [],
   "source": [
    "import numpy as np\n",
    "import os\n",
    "import PIL\n",
    "import PIL.Image\n",
    "import tensorflow as tf\n"
   ]
  },
  {
   "cell_type": "code",
   "execution_count": 3,
   "metadata": {},
   "outputs": [
    {
     "output_type": "stream",
     "name": "stdout",
     "text": [
      "2.5.0\n"
     ]
    }
   ],
   "source": [
    "print(tf.__version__)\n"
   ]
  },
  {
   "cell_type": "code",
   "execution_count": 7,
   "metadata": {},
   "outputs": [
    {
     "output_type": "execute_result",
     "data": {
      "text/plain": [
       "['airplane',\n",
       " 'animal',\n",
       " 'car',\n",
       " 'cheese pizza',\n",
       " 'fruit',\n",
       " 'man',\n",
       " 'mushroom pizza',\n",
       " 'people',\n",
       " 'pepperoni pizza',\n",
       " 'pizza',\n",
       " 'vegetable',\n",
       " 'woman']"
      ]
     },
     "metadata": {},
     "execution_count": 7
    }
   ],
   "source": [
    "data_dir = '../../assets/images'\n",
    "os.listdir(data_dir)"
   ]
  },
  {
   "cell_type": "code",
   "execution_count": 8,
   "metadata": {},
   "outputs": [],
   "source": [
    "batch_size = 32\n",
    "img_height = 180\n",
    "img_width = 180"
   ]
  },
  {
   "cell_type": "code",
   "execution_count": 11,
   "metadata": {},
   "outputs": [],
   "source": [
    "import os\n",
    "def replace(folder_path, old, new):\n",
    "    for path, subdirs, files in os.walk(folder_path):\n",
    "        for name in files:\n",
    "            if(old.lower() in name.lower()):\n",
    "                file_path = os.path.join(path,name)\n",
    "                new_name = os.path.join(path,name.lower().replace(old,new))\n",
    "                os.rename(file_path, new_name)"
   ]
  },
  {
   "cell_type": "code",
   "execution_count": 12,
   "metadata": {},
   "outputs": [],
   "source": [
    "# replace('../../assets/images/fruit','.','f.')"
   ]
  },
  {
   "cell_type": "code",
   "execution_count": 13,
   "metadata": {},
   "outputs": [],
   "source": [
    "# replace('../../assets/images/man','.','m.')\n",
    "# replace('../../assets/images/woman','.','w.')\n",
    "# replace('../../assets/images/people','.','ppl.')\n",
    "# replace('../../assets/images/car','.','c.')\n",
    "# replace('../../assets/images/vegetable','.','v.')\n",
    "# replace('../../assets/images/animal','.','an.')\n",
    "# replace('../../assets/images/airplane','.','ap.')\n",
    "# replace('../../assets/images/pizza','.','p1.')\n",
    "# replace('../../assets/images/cheese\\ pizza','.','p2.')\n",
    "# replace('../../assets/images/mushroom\\ pizza','.','p3.')\n",
    "# replace('../../assets/images/pepperoni\\ pizza','.','p4.')\n",
    "\n",
    "\n",
    "\n",
    "\n",
    "\n",
    "\n",
    "\n",
    "\n",
    "\n"
   ]
  },
  {
   "cell_type": "code",
   "execution_count": null,
   "metadata": {},
   "outputs": [],
   "source": []
  }
 ]
}